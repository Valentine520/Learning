{
 "cells": [
  {
   "cell_type": "code",
   "execution_count": 37,
   "id": "546ecaff",
   "metadata": {},
   "outputs": [],
   "source": [
    "# compare the for loop and matrix computing\n",
    "import numpy as np\n",
    "import time"
   ]
  },
  {
   "cell_type": "code",
   "execution_count": 29,
   "id": "1ab142e9",
   "metadata": {},
   "outputs": [
    {
     "data": {
      "text/plain": [
       "(1000000, 1000)"
      ]
     },
     "execution_count": 29,
     "metadata": {},
     "output_type": "execute_result"
    }
   ],
   "source": [
    "a = np.random.rand(1000000)\n",
    "b = np.random.rand(1000000, 1000)\n",
    "a.shape\n",
    "b.shape"
   ]
  },
  {
   "cell_type": "code",
   "execution_count": 34,
   "id": "22a915a4",
   "metadata": {},
   "outputs": [],
   "source": [
    "res = np.zeros(1000, dtype=int)\n",
    "for i in range (b.shape[1]):\n",
    "    tmp = 0\n",
    "    for j in range(a.shape[0]):\n",
    "        tmp += a[j] * b[j][i]\n",
    "    res[i] += tmp"
   ]
  },
  {
   "cell_type": "code",
   "execution_count": 45,
   "id": "384b743a",
   "metadata": {},
   "outputs": [],
   "source": [
    "res;"
   ]
  },
  {
   "cell_type": "code",
   "execution_count": 39,
   "id": "7107080d",
   "metadata": {},
   "outputs": [],
   "source": [
    "res = np.dot(a.reshape(1000000, 1).T, b)"
   ]
  },
  {
   "cell_type": "code",
   "execution_count": 44,
   "id": "4e67b154",
   "metadata": {},
   "outputs": [],
   "source": [
    "res.astype(int);"
   ]
  },
  {
   "cell_type": "code",
   "execution_count": 46,
   "id": "ff5b7e10",
   "metadata": {},
   "outputs": [],
   "source": [
    "A = np.array([[56.0, 0.0, 4.4, 68.0],[1.2, 104.0, 52.0, 8.0], [1.8, 135.0, 99.0, 0.9]])"
   ]
  },
  {
   "cell_type": "code",
   "execution_count": 51,
   "id": "992e5571",
   "metadata": {},
   "outputs": [
    {
     "data": {
      "text/plain": [
       "array([[ 56. ,   0. ,   4.4,  68. ],\n",
       "       [  1.2, 104. ,  52. ,   8. ],\n",
       "       [  1.8, 135. ,  99. ,   0.9]])"
      ]
     },
     "execution_count": 51,
     "metadata": {},
     "output_type": "execute_result"
    }
   ],
   "source": [
    "A"
   ]
  },
  {
   "cell_type": "code",
   "execution_count": 50,
   "id": "8931d347",
   "metadata": {},
   "outputs": [
    {
     "data": {
      "text/plain": [
       "array([[0.94915254, 0.        , 0.02831403, 0.88426528],\n",
       "       [0.02033898, 0.43514644, 0.33462033, 0.10403121],\n",
       "       [0.03050847, 0.56485356, 0.63706564, 0.01170351]])"
      ]
     },
     "execution_count": 50,
     "metadata": {},
     "output_type": "execute_result"
    }
   ],
   "source": [
    "A / A.sum(axis=0)"
   ]
  },
  {
   "cell_type": "code",
   "execution_count": 52,
   "id": "a5f3a5a5",
   "metadata": {},
   "outputs": [
    {
     "data": {
      "text/plain": [
       "array([[ 57. ,   1. ,   5.4,  69. ],\n",
       "       [  2.2, 105. ,  53. ,   9. ],\n",
       "       [  2.8, 136. , 100. ,   1.9]])"
      ]
     },
     "execution_count": 52,
     "metadata": {},
     "output_type": "execute_result"
    }
   ],
   "source": [
    "A + 1"
   ]
  },
  {
   "cell_type": "code",
   "execution_count": 53,
   "id": "37f698cc",
   "metadata": {},
   "outputs": [
    {
     "data": {
      "text/plain": [
       "array([[ 57. ,   2. ,   7.4,  72. ],\n",
       "       [  2.2, 106. ,  55. ,  12. ],\n",
       "       [  2.8, 137. , 102. ,   4.9]])"
      ]
     },
     "execution_count": 53,
     "metadata": {},
     "output_type": "execute_result"
    }
   ],
   "source": [
    "A + [1, 2, 3, 4]"
   ]
  },
  {
   "cell_type": "code",
   "execution_count": 54,
   "id": "04fd32d2",
   "metadata": {},
   "outputs": [
    {
     "data": {
      "text/plain": [
       "array([ 0.04796176, -1.63739809,  0.28608941, -0.12048416, -1.47591191])"
      ]
     },
     "execution_count": 54,
     "metadata": {},
     "output_type": "execute_result"
    }
   ],
   "source": [
    "a = np.random.randn(5); a"
   ]
  },
  {
   "cell_type": "code",
   "execution_count": 55,
   "id": "85c195f3",
   "metadata": {},
   "outputs": [
    {
     "data": {
      "text/plain": [
       "(5,)"
      ]
     },
     "execution_count": 55,
     "metadata": {},
     "output_type": "execute_result"
    }
   ],
   "source": [
    "a.shape"
   ]
  },
  {
   "cell_type": "code",
   "execution_count": 56,
   "id": "d414c367",
   "metadata": {},
   "outputs": [
    {
     "data": {
      "text/plain": [
       "4.958052367384842"
      ]
     },
     "execution_count": 56,
     "metadata": {},
     "output_type": "execute_result"
    }
   ],
   "source": [
    "np.dot(a, a.T)"
   ]
  },
  {
   "cell_type": "code",
   "execution_count": 57,
   "id": "07ae67a8",
   "metadata": {},
   "outputs": [
    {
     "data": {
      "text/plain": [
       "4.958052367384842"
      ]
     },
     "execution_count": 57,
     "metadata": {},
     "output_type": "execute_result"
    }
   ],
   "source": [
    "np.dot(a.T, a)"
   ]
  },
  {
   "cell_type": "code",
   "execution_count": 60,
   "id": "0fc09fca",
   "metadata": {},
   "outputs": [
    {
     "data": {
      "text/plain": [
       "array([[-0.42505129,  0.66032712,  0.67220678,  1.36258666, -0.6514545 ]])"
      ]
     },
     "execution_count": 60,
     "metadata": {},
     "output_type": "execute_result"
    }
   ],
   "source": [
    "a = np.random.randn(1, 5); a"
   ]
  },
  {
   "cell_type": "code",
   "execution_count": 61,
   "id": "47b86a95",
   "metadata": {},
   "outputs": [
    {
     "data": {
      "text/plain": [
       "array([[-0.42505129],\n",
       "       [ 0.66032712],\n",
       "       [ 0.67220678],\n",
       "       [ 1.36258666],\n",
       "       [-0.6514545 ]])"
      ]
     },
     "execution_count": 61,
     "metadata": {},
     "output_type": "execute_result"
    }
   ],
   "source": [
    "a.T"
   ]
  },
  {
   "cell_type": "code",
   "execution_count": 62,
   "id": "fc8d02da",
   "metadata": {},
   "outputs": [
    {
     "data": {
      "text/plain": [
       "array([[ 0.1806686 , -0.28067289, -0.28572236, -0.57916921,  0.27690158],\n",
       "       [-0.28067289,  0.43603191,  0.44387637,  0.89975293, -0.43017308],\n",
       "       [-0.28572236,  0.44387637,  0.45186195,  0.91593999, -0.43791213],\n",
       "       [-0.57916921,  0.89975293,  0.91593999,  1.85664241, -0.88766322],\n",
       "       [ 0.27690158, -0.43017308, -0.43791213, -0.88766322,  0.42439297]])"
      ]
     },
     "execution_count": 62,
     "metadata": {},
     "output_type": "execute_result"
    }
   ],
   "source": [
    "np.dot(a.T, a)"
   ]
  },
  {
   "cell_type": "code",
   "execution_count": null,
   "id": "41fcaebe",
   "metadata": {},
   "outputs": [],
   "source": []
  }
 ],
 "metadata": {
  "kernelspec": {
   "display_name": "Python 3 (ipykernel)",
   "language": "python",
   "name": "python3"
  },
  "language_info": {
   "codemirror_mode": {
    "name": "ipython",
    "version": 3
   },
   "file_extension": ".py",
   "mimetype": "text/x-python",
   "name": "python",
   "nbconvert_exporter": "python",
   "pygments_lexer": "ipython3",
   "version": "3.8.17"
  }
 },
 "nbformat": 4,
 "nbformat_minor": 5
}
