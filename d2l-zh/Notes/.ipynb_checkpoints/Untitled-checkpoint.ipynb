{
 "cells": [
  {
   "cell_type": "code",
   "execution_count": 1,
   "id": "b028a82a-a166-4613-8519-711db6f207e8",
   "metadata": {},
   "outputs": [],
   "source": [
    "import torch\n",
    "from torch import nn\n",
    "from d2l import torch as d2l\n",
    "\n",
    "batch_size = 256\n",
    "train_iter, test_iter = d2l.load_data_fashion_mnist(batch_size)"
   ]
  },
  {
   "cell_type": "code",
   "execution_count": 6,
   "id": "050756f8-d277-4285-b29d-a389ee63a1ea",
   "metadata": {},
   "outputs": [],
   "source": [
    "# define the hyper parameters\n",
    "num_inputs, num_outputs, num_hiddens = 784, 10, 256\n",
    "\n",
    "# the W(weights) need to be random value, or the weight will never change, and the bias can be zero.\n",
    "W1 = nn.Parameter(torch.randn(num_inputs, num_hiddens), requires_grad=True)\n",
    "b1 = nn.Parameter(torch.zeros(num_hiddens), requires_grad=True)\n",
    "\n",
    "W2 = nn.Parameter(torch.randn(num_hiddens, num_outputs), requires_grad=True)\n",
    "b2 = nn.Parameter(torch.zeros(num_outputs), requires_grad=True)\n",
    "\n",
    "params = [W1, b1, W2, b2]"
   ]
  },
  {
   "cell_type": "code",
   "execution_count": 7,
   "id": "0f71cc31-4b1f-40e1-949f-9813e2159cba",
   "metadata": {},
   "outputs": [],
   "source": [
    "def relu(X):\n",
    "    a = torch.zeros_like(X) # generate a zero tensor\n",
    "    return torch.max(X, a)"
   ]
  },
  {
   "cell_type": "code",
   "execution_count": null,
   "id": "d1351c7f-0ffe-43eb-bc43-5b023eb029f7",
   "metadata": {},
   "outputs": [],
   "source": [
    "def net(X):\n",
    "    X = X.reshape((-1, num_inputs))\n",
    "    H = relu(X @ W1 + b1) # care about the matrix dimension is useful\n",
    "    return (H @ W2 + b2)"
   ]
  }
 ],
 "metadata": {
  "kernelspec": {
   "display_name": "Python 3 (ipykernel)",
   "language": "python",
   "name": "python3"
  },
  "language_info": {
   "codemirror_mode": {
    "name": "ipython",
    "version": 3
   },
   "file_extension": ".py",
   "mimetype": "text/x-python",
   "name": "python",
   "nbconvert_exporter": "python",
   "pygments_lexer": "ipython3",
   "version": "3.8.0"
  }
 },
 "nbformat": 4,
 "nbformat_minor": 5
}
