{
 "cells": [
  {
   "cell_type": "markdown",
   "id": "a8a54769-7f18-4ae0-93d9-528c877e6170",
   "metadata": {},
   "source": [
    "# Realize the Dropout regularization operation"
   ]
  },
  {
   "cell_type": "code",
   "execution_count": 33,
   "id": "da19072a-9de8-4e3c-b3da-22190b9138ec",
   "metadata": {},
   "outputs": [
    {
     "data": {
      "text/plain": [
       "tensor([1., 0., 0.])"
      ]
     },
     "execution_count": 33,
     "metadata": {},
     "output_type": "execute_result"
    }
   ],
   "source": [
    "import torch\n",
    "from torch import nn\n",
    "from d2l import torch as d2l\n",
    "\n",
    "# define the dropout_layer function\n",
    "def dropout_layer(X, dropout):\n",
    "    assert 0 <= dropout <= 1\n",
    "    if dropout == 1:\n",
    "        return torch.zeros_like(X)\n",
    "    if dropout == 0:\n",
    "        return X\n",
    "    # what is this mask?\n",
    "    mask = (torch.Tensor(X.shape).uniform_(0, 1) > dropout).float()\n",
    "    return mask * X / (1.0 - dropout) # make some unit 0 and some units (1-dropout)\n",
    "\n",
    "X = torch.tensor([1, 2, 3])\n",
    "dropout = 0.5\n",
    "(torch.Tensor(X.shape).uniform_(0 ,1) > dropout).float() # get the random value and generate the bool matrix\n",
    "# the bool value can use the .float() function to convert into numeric value \n",
    "# the multiple arithemetic is much more faster than the select function"
   ]
  },
  {
   "cell_type": "code",
   "execution_count": 48,
   "id": "2d8b8482-3924-475e-baa7-16c2b8d05bad",
   "metadata": {},
   "outputs": [],
   "source": [
    "class Accumulator:\n",
    "    \"\"\"accumulate the value on 'n' parameters\"\"\"\n",
    "    def __init__(self, n):\n",
    "        self.data = [0.0] * n\n",
    "    \n",
    "    def add(self, *args):\n",
    "        self.data = [a + float(b) for a, b in zip(self.data, args)]\n",
    "    \n",
    "    def reset(self):\n",
    "        self.data = [0.0] * len(self.data) # reset data to 0\n",
    "        \n",
    "    def __getitem__(self, idx):\n",
    "        return self.data[idx]\n",
    "\n",
    "def accuracy(y_hat, y):\n",
    "    \"\"\"calculate the numbers of correction\"\"\"\n",
    "    if len(y_hat.shape) > 1 and y_hat.shape[1] > 1:\n",
    "        # the dimension must > 2 so the type > 2\n",
    "        y_hat = y_hat.argmax(axis=1) # get the max partition as the type for every class matrix\n",
    "    cmp = y_hat.type(y.dtype) == y # convert the same data type to compare the value\n",
    "    return float(cmp.type(y.dtype).sum()) # just convert the type\n",
    "\n",
    "def evaluate_accuracy(net, data_iter):\n",
    "    \"\"\"calculate the accuracy in special model\"\"\"\n",
    "    if isinstance(net, torch.nn.Module):\n",
    "        net.eval() # set the model into evalution model, this will not calculate the grad, can simplify our module\n",
    "        \n",
    "    metric = Accumulator(2) # this is a class self define, [0] is right number [1] is all \n",
    "    for X, y in data_iter:\n",
    "        metric.add(accuracy(net(X), y), y.numel()) # net(X) can calculate the y\n",
    "    return metric[0] / metric[1]\n",
    "\n",
    "        \n",
    "\n",
    "def train_ch3(net, train_iter, test_iter, loss, num_epochs, updater):\n",
    "    \"\"\"Define the final trainning function just use above items\"\"\"\n",
    "#     animator = Animator(xlabel='epoch', xlim=[1, num_epochs], ylim=[0.3, 1], legend=['train loss', 'train acc', 'test acc'])\n",
    "    \n",
    "    # if we just want to malloc the list inital, we can use [] * num\n",
    "    res_list = [[]] * num_epochs\n",
    "    for epoch in range(num_epochs):\n",
    "        train_metrics = train_epoch_ch3(net, train_iter, loss, updater)\n",
    "        test_acc = evaluate_accuracy(net, test_iter)\n",
    "#         animator.add(epoch + 1, train_metrics + (test_acc, ))\n",
    "        \n",
    "        res_list[epoch] = ([train_metrics[0] ,train_metrics[1], test_acc])\n",
    "    train_loss, train_acc = train_metrics\n",
    "    \n",
    "    return  res_list\n",
    "\n",
    "\n",
    "def train_epoch_ch3(net, train_iter, loss, updater):\n",
    "    # we can get the basic blockes through these parameters, the net, the loss, the optimizer.\n",
    "    if isinstance(net, torch.nn.Module):\n",
    "        net.train()\n",
    "        \n",
    "    metric = Accumulator(3)\n",
    "    for X, y in train_iter:\n",
    "        y_hat = net(X)\n",
    "        l = loss(y_hat, y) # evalute the loss value, just need the true and the prediction, there is the cross\n",
    "        if isinstance(updater, torch.optim.Optimizer):\n",
    "            updater.zero_grad() # elimate the grad\n",
    "            l.backward() # calculate the grad\n",
    "            # actually the l.backward calculate the grad for upader to modify its parameters\n",
    "            \n",
    "            updater.step() # update the trainner\n",
    "            metric.add(\n",
    "                float(l) * len(y), accuracy(y_hat, y), \n",
    "                y.size().numel()\n",
    "            )\n",
    "        else:\n",
    "            l.sum().backward()\n",
    "            updater(X.shape[0]) # grad down by the X.shape[0] numbers\n",
    "            metric.add(float(l.sum()), accuracy(y_hat, y), y.numel())\n",
    "    return metric[0] / metric[2], metric[1] / metric[2] "
   ]
  },
  {
   "cell_type": "code",
   "execution_count": 49,
   "id": "43a9179e-375c-4211-a9c2-df18799871bf",
   "metadata": {},
   "outputs": [
    {
     "name": "stdout",
     "output_type": "stream",
     "text": [
      "tensor([[ 0.,  1.,  2.,  3.,  4.,  5.,  6.,  7.],\n",
      "        [ 8.,  9., 10., 11., 12., 13., 14., 15.]])\n",
      "tensor([[ 0.,  1.,  2.,  3.,  4.,  5.,  6.,  7.],\n",
      "        [ 8.,  9., 10., 11., 12., 13., 14., 15.]])\n",
      "tensor([[0., 0., 0., 0., 0., 0., 0., 0.],\n",
      "        [0., 0., 0., 0., 0., 0., 0., 0.]])\n",
      "tensor([[ 0.,  2.,  4.,  6.,  8.,  0.,  0.,  0.],\n",
      "        [16., 18., 20., 22.,  0.,  0., 28.,  0.]])\n"
     ]
    }
   ],
   "source": [
    "# test the dropout_layer function\n",
    "X = torch.arange(16, dtype=torch.float32).reshape((2, 8))\n",
    "print(X)\n",
    "print(dropout_layer(X, 0.0))\n",
    "print(dropout_layer(X, 1.0))\n",
    "print(dropout_layer(X, 0.5))"
   ]
  },
  {
   "cell_type": "code",
   "execution_count": 50,
   "id": "ba898ec5-e284-4bae-8b33-0337b3859311",
   "metadata": {},
   "outputs": [],
   "source": [
    "num_inputs, num_outputs, num_hiddens1, num_hiddens2 = 784, 10, 256, 256\n",
    "\n",
    "dropout1, dropout2 = 0.2, 0.5\n",
    "\n",
    "class Net(nn.Module):\n",
    "    def __init__(self, num_inputs, num_outputs, num_hiddens1, num_hiddens2, \n",
    "                 is_training=True):\n",
    "        # just the training process need the dropout regularization, so the is_training is very useful\n",
    "        super(Net, self).__init__()\n",
    "        self.num_inputs = num_inputs\n",
    "        self.training = is_training\n",
    "        self.lin1 = nn.Linear(num_inputs, num_hiddens1)\n",
    "        self.lin2 = nn.Linear(num_hiddens1, num_hiddens2)\n",
    "        self.lin3 = nn.Linear(num_hiddens2, num_outputs)\n",
    "        self.relu = nn.ReLU() # need a non-linear activation function\n",
    "\n",
    "    def forward(self, X):\n",
    "        H1 = self.relu(self.lin1(X.reshape((-1, self.num_inputs)))) # this is the single layer\n",
    "        if self.training == True:\n",
    "            H1 = dropout_layer(H1, dropout1) # use dropout just during the training process\n",
    "        H2 = self.relu(self.lin2(H1))\n",
    "        if self.training == True:\n",
    "            H2 = dropout_layer(H2, dropout2)\n",
    "        out = self.lin3(H2) # the final layer didn't need the relu activation function\n",
    "        return out\n",
    "\n",
    "net = Net(num_inputs, num_outputs, num_hiddens1, num_hiddens2, True)"
   ]
  },
  {
   "cell_type": "code",
   "execution_count": 51,
   "id": "a8130b45-3257-411f-a939-f0c4aa1f332a",
   "metadata": {},
   "outputs": [
    {
     "ename": "NameError",
     "evalue": "name 'evaluate_accuracy' is not defined",
     "output_type": "error",
     "traceback": [
      "\u001b[1;31m---------------------------------------------------------------------------\u001b[0m",
      "\u001b[1;31mNameError\u001b[0m                                 Traceback (most recent call last)",
      "Cell \u001b[1;32mIn[51], line 5\u001b[0m\n\u001b[0;32m      3\u001b[0m train_iter, test_iter \u001b[38;5;241m=\u001b[39m d2l\u001b[38;5;241m.\u001b[39mload_data_fashion_mnist(batch_size)\n\u001b[0;32m      4\u001b[0m trainer \u001b[38;5;241m=\u001b[39m torch\u001b[38;5;241m.\u001b[39moptim\u001b[38;5;241m.\u001b[39mSGD(net\u001b[38;5;241m.\u001b[39mparameters(), lr \u001b[38;5;241m=\u001b[39m lr)\n\u001b[1;32m----> 5\u001b[0m \u001b[43mtrain_ch3\u001b[49m\u001b[43m(\u001b[49m\u001b[43mnet\u001b[49m\u001b[43m,\u001b[49m\u001b[43m \u001b[49m\u001b[43mtrain_iter\u001b[49m\u001b[43m,\u001b[49m\u001b[43m \u001b[49m\u001b[43mtest_iter\u001b[49m\u001b[43m,\u001b[49m\u001b[43m \u001b[49m\u001b[43mloss\u001b[49m\u001b[43m,\u001b[49m\u001b[43m \u001b[49m\u001b[43mnum_epochs\u001b[49m\u001b[43m,\u001b[49m\u001b[43m \u001b[49m\u001b[43mtrainer\u001b[49m\u001b[43m)\u001b[49m\n",
      "Cell \u001b[1;32mIn[48], line 33\u001b[0m, in \u001b[0;36mtrain_ch3\u001b[1;34m(net, train_iter, test_iter, loss, num_epochs, updater)\u001b[0m\n\u001b[0;32m     31\u001b[0m     \u001b[38;5;28;01mfor\u001b[39;00m epoch \u001b[38;5;129;01min\u001b[39;00m \u001b[38;5;28mrange\u001b[39m(num_epochs):\n\u001b[0;32m     32\u001b[0m         train_metrics \u001b[38;5;241m=\u001b[39m train_epoch_ch3(net, train_iter, loss, updater)\n\u001b[1;32m---> 33\u001b[0m         test_acc \u001b[38;5;241m=\u001b[39m \u001b[43mevaluate_accuracy\u001b[49m(net, test_iter)\n\u001b[0;32m     34\u001b[0m \u001b[38;5;66;03m#         animator.add(epoch + 1, train_metrics + (test_acc, ))\u001b[39;00m\n\u001b[0;32m     36\u001b[0m         res_list[epoch] \u001b[38;5;241m=\u001b[39m ([train_metrics[\u001b[38;5;241m0\u001b[39m] ,train_metrics[\u001b[38;5;241m1\u001b[39m], test_acc])\n",
      "\u001b[1;31mNameError\u001b[0m: name 'evaluate_accuracy' is not defined"
     ]
    }
   ],
   "source": [
    "num_epochs, lr, batch_size = 10, 0.5, 256\n",
    "loss = nn.CrossEntropyLoss()\n",
    "train_iter, test_iter = d2l.load_data_fashion_mnist(batch_size)\n",
    "trainer = torch.optim.SGD(net.parameters(), lr = lr)\n",
    "train_ch3(net, train_iter, test_iter, loss, num_epochs, trainer)"
   ]
  },
  {
   "cell_type": "code",
   "execution_count": null,
   "id": "5aed3e3f-8bc8-4326-b480-159c37e6af03",
   "metadata": {},
   "outputs": [],
   "source": []
  }
 ],
 "metadata": {
  "kernelspec": {
   "display_name": "Python 3 (ipykernel)",
   "language": "python",
   "name": "python3"
  },
  "language_info": {
   "codemirror_mode": {
    "name": "ipython",
    "version": 3
   },
   "file_extension": ".py",
   "mimetype": "text/x-python",
   "name": "python",
   "nbconvert_exporter": "python",
   "pygments_lexer": "ipython3",
   "version": "3.8.0"
  }
 },
 "nbformat": 4,
 "nbformat_minor": 5
}
