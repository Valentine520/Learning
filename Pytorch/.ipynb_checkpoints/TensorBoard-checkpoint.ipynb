{
 "cells": [
  {
   "cell_type": "code",
   "execution_count": 1,
   "id": "f35774ed",
   "metadata": {
    "scrolled": true
   },
   "outputs": [],
   "source": [
    "from torch.utils.tensorboard import SummaryWriter\n",
    "import numpy as np"
   ]
  },
  {
   "cell_type": "code",
   "execution_count": 24,
   "id": "2c181731",
   "metadata": {},
   "outputs": [],
   "source": [
    "writer = SummaryWriter(\"logs3\")\n",
    "\n",
    "# writer.add_image()\n",
    "# y = x\n",
    "\n",
    "for i in range(100):\n",
    "\n",
    "    writer.add_scalar(\"y=2x\", 2*i,i)\n",
    "\n",
    "writer.close()\n"
   ]
  },
  {
   "cell_type": "code",
   "execution_count": 4,
   "id": "7bd667d4",
   "metadata": {},
   "outputs": [],
   "source": [
    "writer = SummaryWriter(\"logs5\")\n",
    "\n",
    "for n_iter in range(100):\n",
    "    writer.add_scalar(\"Loss/train\", np.random.random(), n_iter)\n",
    "    writer.add_scalar(\"Loss/test\", np.random.random(), n_iter)\n",
    "    writer.add_scalar(\"Accuracy/train\", np.random.random(), n_iter)\n",
    "    writer.add_scalar(\"Accuracy/test\", np.random.random(), n_iter)\n",
    "\n",
    "writer.close()"
   ]
  },
  {
   "cell_type": "code",
   "execution_count": 8,
   "id": "7960f085",
   "metadata": {},
   "outputs": [],
   "source": [
    "image_path = r\"C:\\Users\\13940\\Desktop\\PyTorch_深度学习快速入门教程\\data\\train\\ants_image\\0013035.jpg\""
   ]
  },
  {
   "cell_type": "code",
   "execution_count": 14,
   "id": "a2df15d3",
   "metadata": {},
   "outputs": [
    {
     "data": {
      "text/plain": [
       "PIL.JpegImagePlugin.JpegImageFile"
      ]
     },
     "execution_count": 14,
     "metadata": {},
     "output_type": "execute_result"
    }
   ],
   "source": [
    "# the writer.add_image need a image tensor, so we can just use PIL to import Image.\n",
    "from PIL import Image\n",
    "\n",
    "img = Image.open(image_path)\n",
    "type(img)"
   ]
  },
  {
   "cell_type": "code",
   "execution_count": 16,
   "id": "3b60160e",
   "metadata": {},
   "outputs": [
    {
     "ename": "ModuleNotFoundError",
     "evalue": "No module named 'cv2'",
     "output_type": "error",
     "traceback": [
      "\u001b[1;31m---------------------------------------------------------------------------\u001b[0m",
      "\u001b[1;31mModuleNotFoundError\u001b[0m                       Traceback (most recent call last)",
      "Cell \u001b[1;32mIn[16], line 1\u001b[0m\n\u001b[1;32m----> 1\u001b[0m \u001b[38;5;28;01mimport\u001b[39;00m \u001b[38;5;21;01mcv2\u001b[39;00m\n",
      "\u001b[1;31mModuleNotFoundError\u001b[0m: No module named 'cv2'"
     ]
    }
   ],
   "source": [
    "import cv2"
   ]
  },
  {
   "cell_type": "code",
   "execution_count": 17,
   "id": "11e84a21",
   "metadata": {},
   "outputs": [],
   "source": [
    "import numpy as np\n",
    "\n",
    "img_array = np.array(img)"
   ]
  },
  {
   "cell_type": "code",
   "execution_count": 24,
   "id": "ae78f951",
   "metadata": {},
   "outputs": [
    {
     "data": {
      "text/plain": [
       "(512, 768, 3)"
      ]
     },
     "execution_count": 24,
     "metadata": {},
     "output_type": "execute_result"
    }
   ],
   "source": [
    "img_array.shape"
   ]
  },
  {
   "cell_type": "code",
   "execution_count": 27,
   "id": "918c038a",
   "metadata": {},
   "outputs": [],
   "source": [
    "writer.add_image(\"test\", img_array, 1, dataformats=\"HWC\")"
   ]
  },
  {
   "cell_type": "code",
   "execution_count": 23,
   "id": "81199d3a",
   "metadata": {},
   "outputs": [],
   "source": [
    "writer.add_image??"
   ]
  },
  {
   "cell_type": "code",
   "execution_count": null,
   "id": "7ed68188",
   "metadata": {},
   "outputs": [],
   "source": [
    "image_path = r\"C:\\Users\\13940\\Desktop\\PyTorch_深度学习快速入门教程\\data\\train\\ants_image\\5650366_e22b7e1065.jpg\""
   ]
  }
 ],
 "metadata": {
  "kernelspec": {
   "display_name": "Python 3 (ipykernel)",
   "language": "python",
   "name": "python3"
  },
  "language_info": {
   "codemirror_mode": {
    "name": "ipython",
    "version": 3
   },
   "file_extension": ".py",
   "mimetype": "text/x-python",
   "name": "python",
   "nbconvert_exporter": "python",
   "pygments_lexer": "ipython3",
   "version": "3.11.3"
  }
 },
 "nbformat": 4,
 "nbformat_minor": 5
}
