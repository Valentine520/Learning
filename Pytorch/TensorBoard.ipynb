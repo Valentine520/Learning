{
 "cells": [
  {
   "cell_type": "code",
   "execution_count": 2,
   "id": "f35774ed",
   "metadata": {
    "scrolled": true
   },
   "outputs": [],
   "source": [
    "from torch.utils.tensorboard import SummaryWriter\n",
    "import numpy as np"
   ]
  },
  {
   "cell_type": "code",
   "execution_count": 3,
   "id": "2c181731",
   "metadata": {},
   "outputs": [],
   "source": [
    "writer = SummaryWriter(\"logs3\")\n",
    "\n",
    "# writer.add_image()\n",
    "# y = x\n",
    "\n",
    "for i in range(100):\n",
    "\n",
    "    writer.add_scalar(\"y=2x\", 2*i,i)\n",
    "\n",
    "writer.close()\n"
   ]
  },
  {
   "cell_type": "code",
   "execution_count": 4,
   "id": "7bd667d4",
   "metadata": {},
   "outputs": [],
   "source": [
    "writer = SummaryWriter(\"logs5\")\n",
    "\n",
    "for n_iter in range(100):\n",
    "    writer.add_scalar(\"Loss/train\", np.random.random(), n_iter)\n",
    "    writer.add_scalar(\"Loss/test\", np.random.random(), n_iter)\n",
    "    writer.add_scalar(\"Accuracy/train\", np.random.random(), n_iter)\n",
    "    writer.add_scalar(\"Accuracy/test\", np.random.random(), n_iter)\n",
    "\n",
    "writer.close()"
   ]
  },
  {
   "cell_type": "code",
   "execution_count": 5,
   "id": "7960f085",
   "metadata": {},
   "outputs": [],
   "source": [
    "image_path = r\"C:\\Users\\13940\\Desktop\\PyTorch_深度学习快速入门教程\\data\\train\\ants_image\\0013035.jpg\""
   ]
  },
  {
   "cell_type": "code",
   "execution_count": 6,
   "id": "a2df15d3",
   "metadata": {},
   "outputs": [
    {
     "data": {
      "text/plain": [
       "PIL.JpegImagePlugin.JpegImageFile"
      ]
     },
     "execution_count": 6,
     "metadata": {},
     "output_type": "execute_result"
    }
   ],
   "source": [
    "# the writer.add_image need a image tensor, so we can just use PIL to import Image.\n",
    "from PIL import Image\n",
    "\n",
    "img = Image.open(image_path)\n",
    "type(img)"
   ]
  },
  {
   "cell_type": "code",
   "execution_count": null,
   "id": "5f11837e",
   "metadata": {},
   "outputs": [],
   "source": []
  },
  {
   "cell_type": "code",
   "execution_count": 8,
   "id": "b839f70c",
   "metadata": {},
   "outputs": [],
   "source": [
    "import numpy as np\n",
    "\n",
    "img_array = np.array(img)"
   ]
  },
  {
   "cell_type": "code",
   "execution_count": 9,
   "id": "31374e8a",
   "metadata": {},
   "outputs": [
    {
     "data": {
      "text/plain": [
       "(512, 768, 3)"
      ]
     },
     "execution_count": 9,
     "metadata": {},
     "output_type": "execute_result"
    }
   ],
   "source": [
    "img_array.shape"
   ]
  },
  {
   "cell_type": "code",
   "execution_count": 10,
   "id": "33ccf20f",
   "metadata": {},
   "outputs": [],
   "source": [
    "writer.add_image(\"test\", img_array, 1, dataformats=\"HWC\")"
   ]
  },
  {
   "cell_type": "code",
   "execution_count": 11,
   "id": "59d9e21d",
   "metadata": {},
   "outputs": [],
   "source": [
    "writer.add_image??"
   ]
  },
  {
   "cell_type": "code",
   "execution_count": 12,
   "id": "ff1b5000",
   "metadata": {},
   "outputs": [],
   "source": [
    "image_path = r\"C:\\Users\\13940\\Desktop\\PyTorch_深度学习快速入门教程\\data\\train\\ants_image\\5650366_e22b7e1065.jpg\"\n",
    "img = Image.open(image_path)\n",
    "\n",
    "img_array = np.array(img)\n",
    "\n",
    "writer.add_image(\"test\", img_array, 2, dataformats=\"HWC\")"
   ]
  },
  {
   "cell_type": "code",
   "execution_count": 13,
   "id": "584c5899",
   "metadata": {},
   "outputs": [
    {
     "name": "stdout",
     "output_type": "stream",
     "text": [
      "This is error\n"
     ]
    }
   ],
   "source": [
    "import os\n",
    "image_root = r\"C:\\Users\\13940\\Desktop\\PyTorch_深度学习快速入门教程\\data\\train\\ants_image\"\n",
    "image_list = os.listdir(image_root)\n",
    "\n",
    "\n",
    "for i, image_name in enumerate(image_list):\n",
    "    try:\n",
    "        image_path = os.path.join(image_root, image_name)\n",
    "        img_array = np.array(Image.open(image_path))\n",
    "        writer.add_image(\"image_iter\", img_array, i, dataformats=\"HWC\")\n",
    "    except:\n",
    "        print(\"This is error\")\n",
    "    "
   ]
  },
  {
   "cell_type": "code",
   "execution_count": null,
   "id": "31f65333",
   "metadata": {},
   "outputs": [],
   "source": []
  },
  {
   "cell_type": "code",
   "execution_count": null,
   "id": "d9d355c5",
   "metadata": {},
   "outputs": [],
   "source": []
  },
  {
   "cell_type": "code",
   "execution_count": null,
   "id": "38cf9c88",
   "metadata": {},
   "outputs": [],
   "source": []
  },
  {
   "cell_type": "code",
   "execution_count": null,
   "id": "03e83ce0",
   "metadata": {},
   "outputs": [],
   "source": []
  }
 ],
 "metadata": {
  "kernelspec": {
   "display_name": "Python 3 (ipykernel)",
   "language": "python",
   "name": "python3"
  },
  "language_info": {
   "codemirror_mode": {
    "name": "ipython",
    "version": 3
   },
   "file_extension": ".py",
   "mimetype": "text/x-python",
   "name": "python",
   "nbconvert_exporter": "python",
   "pygments_lexer": "ipython3",
   "version": "3.11.3"
  }
 },
 "nbformat": 4,
 "nbformat_minor": 5
}
