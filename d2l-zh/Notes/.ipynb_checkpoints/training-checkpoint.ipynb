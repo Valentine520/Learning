{
 "cells": [
  {
   "cell_type": "code",
   "execution_count": 1,
   "id": "b5ba8017-da64-4230-9d15-502542452916",
   "metadata": {},
   "outputs": [],
   "source": [
    "def train_ch3(net, train_iter, test_iter, loss, num_epochs, updater):\n",
    "    \"\"\"Define the final trainning function just use above items\"\"\"\n",
    "#     animator = Animator(xlabel='epoch', xlim=[1, num_epochs], ylim=[0.3, 1], legend=['train loss', 'train acc', 'test acc'])\n",
    "    \n",
    "    # if we just want to malloc the list inital, we can use [] * num\n",
    "    res_list = [[]] * num_epochs\n",
    "    for epoch in range(num_epochs):\n",
    "        train_metrics = train_epoch_ch3(net, train_iter, loss, updater)\n",
    "        test_acc = evaluate_accuracy(net, test_iter)\n",
    "#         animator.add(epoch + 1, train_metrics + (test_acc, ))\n",
    "        \n",
    "        res_list[epoch] = ([train_metrics[0] ,train_metrics[1], test_acc])\n",
    "    train_loss, train_acc = train_metrics\n",
    "    \n",
    "    return  res_list"
   ]
  },
  {
   "cell_type": "code",
   "execution_count": 2,
   "id": "b5586c56-5faa-471a-a4f6-205c2ece1bce",
   "metadata": {},
   "outputs": [],
   "source": [
    "def train_epoch_ch3(net, train_iter, loss, updater):\n",
    "    # we can get the basic blockes through these parameters, the net, the loss, the optimizer.\n",
    "    if isinstance(net, torch.nn.Module):\n",
    "        net.train()\n",
    "    metric = Accumulator(3)\n",
    "    for X, y in train_iter:\n",
    "        y_hat = net(X)\n",
    "        l = loss(y_hat, y) # evalute the loss value, just need the true and the prediction, there is the cross\n",
    "        if isinstance(updater, torch.optim.Optimizer):\n",
    "            updater.zero_grad() # elimate the grad\n",
    "            l.backward() # calculate the grad\n",
    "            # actually the l.backward calculate the grad for upader to modify its parameters\n",
    "            \n",
    "            updater.step() # update the trainner\n",
    "            metric.add(\n",
    "                float(l) * len(y), accuracy(y_hat, y), \n",
    "                y.size().numel()\n",
    "            )\n",
    "        else:\n",
    "            l.sum().backward()\n",
    "            updater(X.shape[0]) # grad down by the X.shape[0] numbers\n",
    "            metric.add(float(l.sum()), accuracy(y_hat, y), y.numel())\n",
    "    return metric[0] / metric[2], metric[1] / metric[2] "
   ]
  },
  {
   "cell_type": "code",
   "execution_count": null,
   "id": "cdb67d7e-8f23-4442-b8ae-83d1783ab276",
   "metadata": {},
   "outputs": [],
   "source": []
  }
 ],
 "metadata": {
  "kernelspec": {
   "display_name": "Python 3 (ipykernel)",
   "language": "python",
   "name": "python3"
  },
  "language_info": {
   "codemirror_mode": {
    "name": "ipython",
    "version": 3
   },
   "file_extension": ".py",
   "mimetype": "text/x-python",
   "name": "python",
   "nbconvert_exporter": "python",
   "pygments_lexer": "ipython3",
   "version": "3.8.0"
  }
 },
 "nbformat": 4,
 "nbformat_minor": 5
}
