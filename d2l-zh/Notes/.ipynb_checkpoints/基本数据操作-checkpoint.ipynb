{
 "cells": [
  {
   "cell_type": "markdown",
   "id": "dc443982",
   "metadata": {},
   "source": [
    "# 数据操作基础\n",
    "\n",
    "\n",
    "在深度学习里面有大量的数组 ndarray 这是numpy里的内容"
   ]
  },
  {
   "cell_type": "code",
   "execution_count": null,
   "id": "a39f7ff3",
   "metadata": {},
   "outputs": [],
   "source": [
    "# 首先导入包\n",
    "import torch"
   ]
  },
  {
   "cell_type": "markdown",
   "id": "7c473f17",
   "metadata": {},
   "source": [
    "### torch 是tensor 而 numpy是ndarray\n",
    "这两个在本质上实际上很相似 只是在用途不大相同 都是表示一些数据 "
   ]
  },
  {
   "cell_type": "code",
   "execution_count": null,
   "id": "950051a8",
   "metadata": {},
   "outputs": [],
   "source": [
    "# 这是一个向量\n",
    "x = torch.arange(12)\n",
    "x \n",
    "\n",
    "# numpy中也有这种方法 我感觉torch和numpy很相似 但是用途不同 \n",
    "import numpy as np\n",
    "y = np.arange(12)\n",
    "y"
   ]
  },
  {
   "cell_type": "code",
   "execution_count": null,
   "id": "a07f16e1",
   "metadata": {
    "scrolled": true
   },
   "outputs": [],
   "source": [
    "# 获取向量的维度和形状\n",
    "x.shape,y.shape"
   ]
  },
  {
   "cell_type": "code",
   "execution_count": null,
   "id": "27c8b106",
   "metadata": {},
   "outputs": [],
   "source": [
    "# 当然可以 reshape\n",
    "x =  x.reshape(3, 4)\n",
    "x"
   ]
  },
  {
   "cell_type": "code",
   "execution_count": null,
   "id": "4aebbbc1",
   "metadata": {},
   "outputs": [],
   "source": [
    "# 如果想要一些特定的值 或者在创建时指定形状\n",
    "x = torch.zeros((2,3,4))\n",
    "x"
   ]
  },
  {
   "cell_type": "code",
   "execution_count": null,
   "id": "d237cf1c",
   "metadata": {},
   "outputs": [],
   "source": [
    "x = torch.ones((2, 3, 4))\n",
    "x"
   ]
  },
  {
   "cell_type": "code",
   "execution_count": null,
   "id": "5f43eca5",
   "metadata": {},
   "outputs": [],
   "source": [
    "# 你当然可以创建自己想要的数组\n",
    "x = torch.tensor([[2, 3, 4], [4, 3, 1], [3, 1, 3]])\n",
    "x"
   ]
  },
  {
   "cell_type": "code",
   "execution_count": null,
   "id": "49688268",
   "metadata": {},
   "outputs": [],
   "source": [
    "x.shape"
   ]
  },
  {
   "cell_type": "code",
   "execution_count": null,
   "id": "0b6b32bf",
   "metadata": {},
   "outputs": [],
   "source": [
    "# 创建了数组之后，可以在数组之间进行一些运算\n",
    "x = torch.tensor([1.0, 2, 4, 8])\n",
    "y = torch.tensor([2, 2, 3, 4])\n",
    "\n",
    "# 这些运算都可以直接进行 按照元素进行加减 这应该是重载了一些运算符 \n",
    "x + y"
   ]
  },
  {
   "cell_type": "markdown",
   "id": "71dd323e",
   "metadata": {},
   "source": [
    "### Tensor 和 ndarray 相似 都会把运算给扩散到整个序列"
   ]
  },
  {
   "cell_type": "code",
   "execution_count": null,
   "id": "ff987cf3",
   "metadata": {},
   "outputs": [],
   "source": [
    "x - y"
   ]
  },
  {
   "cell_type": "code",
   "execution_count": null,
   "id": "7c202e13",
   "metadata": {},
   "outputs": [],
   "source": [
    "x * y"
   ]
  },
  {
   "cell_type": "code",
   "execution_count": null,
   "id": "8c56ba1c",
   "metadata": {},
   "outputs": [],
   "source": [
    "x ** y "
   ]
  },
  {
   "cell_type": "code",
   "execution_count": null,
   "id": "8bca419d",
   "metadata": {},
   "outputs": [],
   "source": [
    "# 你还可以指定创建数组的数据类型\n",
    "x = torch.arange(12, dtype=torch.float32).reshape((3, 4))\n",
    "y = torch.tensor([[2.0, 1, 4, 3], [1, 2, 3, 4], [4, 3, 2, 1]])\n"
   ]
  },
  {
   "cell_type": "code",
   "execution_count": null,
   "id": "08110b70",
   "metadata": {},
   "outputs": [],
   "source": [
    "y.shape"
   ]
  },
  {
   "cell_type": "code",
   "execution_count": null,
   "id": "6febe3d3",
   "metadata": {},
   "outputs": [],
   "source": [
    "x.shape"
   ]
  },
  {
   "cell_type": "code",
   "execution_count": null,
   "id": "c873ceae",
   "metadata": {},
   "outputs": [],
   "source": [
    "# 同样都是二维的 torch.arange是以特殊的方式生成tensor 而 直接用ternsor则是指定一个数据让其生成\n",
    "# 0 维代表的是行的拼接 1代表的是列的拼接 cat必须保证两者的维度相同\n",
    "torch.cat((x, y), dim=0), torch.cat((x, y), dim=1)"
   ]
  },
  {
   "cell_type": "code",
   "execution_count": null,
   "id": "b0d2b992",
   "metadata": {},
   "outputs": [],
   "source": [
    "#  还可以构建判断矩阵 用来构建张量 bool矩阵\n",
    "res = x == y\n",
    "res"
   ]
  },
  {
   "cell_type": "code",
   "execution_count": null,
   "id": "e32d75dc",
   "metadata": {},
   "outputs": [],
   "source": [
    "# 求和之后得到一个元素的tensor 标量\n",
    "x.sum() "
   ]
  },
  {
   "cell_type": "code",
   "execution_count": null,
   "id": "a20f746f",
   "metadata": {},
   "outputs": [],
   "source": [
    "# ！！！！！ 从numpy 传过来的广播机制\n",
    "# numpy 中的广播机制就是 尽管你的维度不同 但是还是可以进行相应的操作\n",
    "# 这里最容易出错 尽管代码都在运行 但是可能不是按照你想象的方式进行\n",
    "\n",
    "a = torch.arange(3).reshape((3, 1))\n",
    "b = torch.arange(2).reshape((1, 2))\n",
    "# 维度不同 但是(3, 1) 可以根据(1,2) 复制一个维度 （3，2） 同理 (1, 2) -> (3, 2)\n",
    "# 这是完全可行的 但是要保证是同一维度 如果是3维和2维 则无法扩张\n",
    "a, b"
   ]
  },
  {
   "cell_type": "code",
   "execution_count": null,
   "id": "8a25a5e8",
   "metadata": {},
   "outputs": [],
   "source": [
    "a + b # 这个广播机制会导致许多问题的发生 所以要慎用 在进行计算之前 先判断两者的维度"
   ]
  },
  {
   "cell_type": "code",
   "execution_count": null,
   "id": "538cb33d",
   "metadata": {},
   "outputs": [],
   "source": [
    "x, x[-1], x[1:3]"
   ]
  },
  {
   "cell_type": "code",
   "execution_count": null,
   "id": "273f0140",
   "metadata": {},
   "outputs": [],
   "source": [
    "x[1, 2] = 9\n",
    "x\n"
   ]
  },
  {
   "cell_type": "code",
   "execution_count": null,
   "id": "877a67d6",
   "metadata": {},
   "outputs": [],
   "source": [
    "x[1] = torch.arange(9, 13)"
   ]
  },
  {
   "cell_type": "code",
   "execution_count": null,
   "id": "8dd99761",
   "metadata": {},
   "outputs": [],
   "source": [
    "x"
   ]
  },
  {
   "cell_type": "code",
   "execution_count": null,
   "id": "0bd1920f",
   "metadata": {},
   "outputs": [],
   "source": [
    "# 不要频繁复制矩阵，尽管python不会做这件事，但是最好不要频繁复制\n",
    "# id 用来在python中获得该内容的地址 像c中的指针\n",
    "\n",
    "before = id(y)\n",
    "y = y + x\n",
    "id(y) == before"
   ]
  },
  {
   "cell_type": "code",
   "execution_count": null,
   "id": "91b4c6a0",
   "metadata": {},
   "outputs": [],
   "source": [
    "# like 用来指定创建的形状\n",
    "z = torch.zeros_like(y) \n",
    "print('id(z):', id(z))\n",
    "z[:] =  x + y\n",
    "print('id(z):', id(z))\n",
    "\n",
    "# 尽管z的值变了 但是其内存地址实际上不会改变 只是切片变化了而已\n",
    "# 切片可以减少内存的开辟 节约空间"
   ]
  },
  {
   "cell_type": "code",
   "execution_count": null,
   "id": "98a66ced",
   "metadata": {},
   "outputs": [],
   "source": [
    "before = id(y)\n",
    "x += y\n",
    "id(y) == before"
   ]
  },
  {
   "cell_type": "code",
   "execution_count": null,
   "id": "e1eb1a63",
   "metadata": {},
   "outputs": [],
   "source": [
    "# torch 中的tensor尽管也是数组 但是和numpy还是不同 所执行的一些操作不同 \n",
    "# numpy是入门python进行数据分析所必须的一个库\n",
    "A = x.numpy()\n",
    "B = torch.tensor(A)\n",
    "type(A), type(B)"
   ]
  },
  {
   "cell_type": "code",
   "execution_count": null,
   "id": "46899d36",
   "metadata": {},
   "outputs": [],
   "source": [
    "# 如果仅仅是一个标量 那么可以转变为python中的标量\n",
    "a = torch.tensor([3.5])\n",
    "a, a.item(), float(a), int(a)"
   ]
  },
  {
   "cell_type": "markdown",
   "id": "55d79ff1",
   "metadata": {},
   "source": [
    "\n",
    "\n",
    "# 数据操作实践\n",
    "利用人工生成的数据进行数据操作实操\n"
   ]
  },
  {
   "cell_type": "code",
   "execution_count": null,
   "id": "89ec90f3",
   "metadata": {},
   "outputs": [],
   "source": [
    "import os \n",
    "\n",
    "# 创建了一个文件夹 \n",
    "os.makdirs(os.path.join('..', 'data'), exist_ok=True)\n",
    "\n",
    "# 创建了一个hose_tiny.csv 文件数据 之后用代码来随机生成\n",
    "data_file = os.path.join('..', 'data', 'hose_tiny.csv')\n",
    "\n",
    "data_file\n",
    "\n",
    "os.makdirs?"
   ]
  },
  {
   "cell_type": "code",
   "execution_count": null,
   "id": "fcbb1bd2",
   "metadata": {},
   "outputs": [],
   "source": [
    "with open(data_file, 'w') as f:\n",
    "    f.write(\"NumRooms, Alley, Price\\n\") # 列名\n",
    "    f.write(\"NA, Pave, 127500\\n\")\n",
    "    f.write(\"2, NA, 106000\\n\")\n",
    "    f.write(\"4, NA, 178100\\n\")\n",
    "    f.write(\"NA, NA, 140000\\n\")\n"
   ]
  },
  {
   "cell_type": "code",
   "execution_count": null,
   "id": "960aa556",
   "metadata": {},
   "outputs": [],
   "source": [
    "import pandas as pd\n",
    "data = pd.read_csv(data_file)\n",
    "data"
   ]
  },
  {
   "cell_type": "code",
   "execution_count": null,
   "id": "80b0ccfd",
   "metadata": {},
   "outputs": [],
   "source": [
    "# 有些数据是缺失的 需要进行补充 \n",
    "# 如果数据缺失 则丢掉\n",
    "# 插值方法（不丢掉）\n",
    "inputs, outputs = data.iloc[:, 0:2], data.iloc[:, 2] # 用来定位行和列 inputs 是第0 1 列 而outputs则是第2列开始\n",
    "\n",
    "inputs"
   ]
  },
  {
   "cell_type": "code",
   "execution_count": null,
   "id": "bf5ff849",
   "metadata": {},
   "outputs": [],
   "source": [
    "outputs"
   ]
  },
  {
   "cell_type": "code",
   "execution_count": null,
   "id": "8af14ef1",
   "metadata": {},
   "outputs": [],
   "source": [
    "inputs = inputs.fillna(inputs.mean())  # 用该部分非缺失值的均值来处理（数值）  string是没有均值的\n",
    "print(inputs)"
   ]
  },
  {
   "cell_type": "code",
   "execution_count": null,
   "id": "966d5be3",
   "metadata": {},
   "outputs": [],
   "source": [
    "# 对于那些非数值 不可以插值 则应该将其转换为数值之后再进行插值\n",
    "inputs = pd.get_dummies(inputs, dummy_na = True)\n",
    "print(inputs)"
   ]
  },
  {
   "cell_type": "code",
   "execution_count": null,
   "id": "40f8648c",
   "metadata": {},
   "outputs": [],
   "source": [
    "import torch\n",
    "\n",
    "x, y = torch.tensor(inputs.values), torch.tensor(outputs.values)\n",
    "x, y\n",
    "\n",
    "# 这样，我们就将对应的csv文件转换成了tensor\n",
    "# 预处理方法还有许多 插值方法也有许多"
   ]
  },
  {
   "cell_type": "markdown",
   "id": "673410fc",
   "metadata": {},
   "source": [
    "# view 和 reshape 的区别\n",
    "\n",
    "# b 和 a 是地址上的引用关系 所以有时候需要copy 深拷贝\n",
    "tensor 中的copy不是简单的copy 牵扯到梯度的计算 所以存在两种copy方式\n",
    "\n",
    "clone\n",
    "clone()函数可以返回一个完全相同的tensor,新的tensor开辟新的内存，但是仍然留在计算图中。\n",
    "\n",
    "detach\n",
    "detach()函数可以返回一个完全相同的tensor,新的tensor开辟与旧的tensor共享内存，新的tensor会脱离计算图，不会牵扯梯度计算。此外，一些原地操作(in-place, such as resize_ / resize_as_ / set_ / transpose_) 在两者任意一个执行都会引发错误。\n",
    "\n",
    "所以尽量选择clone 来复制吧\n"
   ]
  },
  {
   "cell_type": "code",
   "execution_count": null,
   "id": "8ebcab9c",
   "metadata": {},
   "outputs": [],
   "source": [
    "a = torch.arange(12).reshape((3, 4)); a"
   ]
  },
  {
   "cell_type": "code",
   "execution_count": null,
   "id": "65306e33",
   "metadata": {},
   "outputs": [],
   "source": [
    "b = a[:]"
   ]
  },
  {
   "cell_type": "code",
   "execution_count": null,
   "id": "252c8c20",
   "metadata": {},
   "outputs": [],
   "source": [
    "b"
   ]
  },
  {
   "cell_type": "code",
   "execution_count": null,
   "id": "5f8257f6",
   "metadata": {},
   "outputs": [],
   "source": [
    "id(b)"
   ]
  },
  {
   "cell_type": "code",
   "execution_count": null,
   "id": "3d59cd09",
   "metadata": {},
   "outputs": [],
   "source": [
    "id(a)"
   ]
  },
  {
   "cell_type": "code",
   "execution_count": null,
   "id": "a5af4ff3",
   "metadata": {},
   "outputs": [],
   "source": [
    "b[1:] = 10"
   ]
  },
  {
   "cell_type": "code",
   "execution_count": null,
   "id": "962a3e33",
   "metadata": {},
   "outputs": [],
   "source": [
    "b"
   ]
  },
  {
   "cell_type": "code",
   "execution_count": null,
   "id": "2297e92e",
   "metadata": {},
   "outputs": [],
   "source": [
    "a"
   ]
  },
  {
   "cell_type": "code",
   "execution_count": null,
   "id": "af5a3a1d",
   "metadata": {},
   "outputs": [],
   "source": [
    "b = a[:].clone()"
   ]
  },
  {
   "cell_type": "code",
   "execution_count": null,
   "id": "12edfb33",
   "metadata": {},
   "outputs": [],
   "source": [
    "b[:1] = 20"
   ]
  },
  {
   "cell_type": "code",
   "execution_count": null,
   "id": "2f84d97d",
   "metadata": {},
   "outputs": [],
   "source": [
    "b"
   ]
  },
  {
   "cell_type": "code",
   "execution_count": null,
   "id": "5f098a4e",
   "metadata": {},
   "outputs": [],
   "source": [
    "a"
   ]
  }
 ],
 "metadata": {
  "kernelspec": {
   "display_name": "Python 3 (ipykernel)",
   "language": "python",
   "name": "python3"
  },
  "language_info": {
   "codemirror_mode": {
    "name": "ipython",
    "version": 3
   },
   "file_extension": ".py",
   "mimetype": "text/x-python",
   "name": "python",
   "nbconvert_exporter": "python",
   "pygments_lexer": "ipython3",
   "version": "3.11.3"
  }
 },
 "nbformat": 4,
 "nbformat_minor": 5
}
