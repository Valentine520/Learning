{
 "cells": [
  {
   "cell_type": "code",
   "execution_count": 8,
   "id": "d82998ee",
   "metadata": {},
   "outputs": [
    {
     "name": "stdout",
     "output_type": "stream",
     "text": [
      "20\n",
      "tensor(6)\n",
      "4\n",
      "tensor([ 4,  6, 14, 12, 30])\n",
      "tensor([ 2, 32, 18, 38, 20])\n",
      "tensor([ 8, 34, 24, 10, 36])\n",
      "tensor([16,  0, 26, 28, 22])\n"
     ]
    }
   ],
   "source": [
    "# define the MyDataSet\n",
    "\n",
    "import torch\n",
    "from torch.utils import data\n",
    "\n",
    "\n",
    "\n",
    "class MyDataset(torch.utils.data.Dataset):\n",
    "    def __init__(self):\n",
    "        # initial the data. If the data is a image and target, we need to transfer the site\n",
    "        self.data = torch.arange(0, 20)\n",
    "    \n",
    "    def __getitem__(self, index):\n",
    "        # get the item from data set\n",
    "        x = self.data[index]\n",
    "        y = x * 2\n",
    "        return y\n",
    "    \n",
    "    def __len__(self):\n",
    "        return len(self.data)\n",
    "\n",
    "# define dataloader\n",
    "dataset = MyDataset()\n",
    "print(len(dataset))\n",
    "print(dataset[3]) # the __getitem__ modify the index method about this dataset\n",
    "\n",
    "\n",
    "# if the data set / batch_size is not satisfy?\n",
    "\n",
    "\n",
    "dataloader = torch.utils.data.DataLoader(dataset, shuffle=True, batch_size=5)\n",
    "print(len(dataloader))\n",
    "\n",
    "for x in dataloader:\n",
    "    print(x)"
   ]
  },
  {
   "cell_type": "code",
   "execution_count": null,
   "id": "a0fa05a0",
   "metadata": {},
   "outputs": [],
   "source": []
  }
 ],
 "metadata": {
  "kernelspec": {
   "display_name": "Python 3 (ipykernel)",
   "language": "python",
   "name": "python3"
  },
  "language_info": {
   "codemirror_mode": {
    "name": "ipython",
    "version": 3
   },
   "file_extension": ".py",
   "mimetype": "text/x-python",
   "name": "python",
   "nbconvert_exporter": "python",
   "pygments_lexer": "ipython3",
   "version": "3.8.0"
  }
 },
 "nbformat": 4,
 "nbformat_minor": 5
}
