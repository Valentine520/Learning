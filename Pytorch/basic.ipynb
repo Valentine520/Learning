{
 "cells": [
  {
   "cell_type": "code",
   "execution_count": 2,
   "id": "b5da7a6d",
   "metadata": {},
   "outputs": [],
   "source": [
    "from torch.utils.data import Dataset\n",
    "from PIL import Image # reading the image data\n",
    "import os"
   ]
  },
  {
   "cell_type": "code",
   "execution_count": 3,
   "id": "18d3a459",
   "metadata": {},
   "outputs": [],
   "source": [
    "class MyData(Dataset):\n",
    "    \n",
    "    def __init__(self, root_dir, label_dir):\n",
    "        \"\"\"\n",
    "        We need to visit the image and labels file, so we need to know the dir\n",
    "        \"\"\"\n",
    "        self.root_dir = root_dir\n",
    "        self.label_dir = label_dir\n",
    "        self.path = os.path.join(self.root_dir, self.label_dir)\n",
    "        self.img_path = os.listdir(self.path)\n",
    "        \n",
    "    \n",
    "    def __getitem__(self, index):\n",
    "        \"\"\"\n",
    "        The index is just the site of your image,\n",
    "        just visit from img_path\n",
    "        \"\"\"\n",
    "        img_name = self.img_path[index]\n",
    "        img_item_path = os.path.join(self.root_dir, self.label_dir, img_name)\n",
    "        img = Image.open(img_item_path)\n",
    "        label = self.label_dir\n",
    "        return img, label\n",
    "\n",
    "    def __len__(self):\n",
    "        return len(self.img_path) # return the length of list but just for single file"
   ]
  },
  {
   "cell_type": "code",
   "execution_count": 11,
   "id": "0bc51eae",
   "metadata": {},
   "outputs": [],
   "source": [
    "# Create the entity of MyData class\n",
    "root_dir = r\"D:\\BaiduNetdiskDownload\\PyTorch_深度学习快速入门教程\\数据集\\练手数据集\\train\"\n",
    "ants_label_dir = \"ants_image\"\n",
    "bees_label_dir = \"bees_image\"\n",
    "ants_dataset = MyData(root_dir, ants_label_dir)\n",
    "bees_dataset = MyData(root_dir, bees_label_dir)"
   ]
  },
  {
   "cell_type": "code",
   "execution_count": 12,
   "id": "fb4bfbc1",
   "metadata": {},
   "outputs": [],
   "source": [
    "img, label = ants_dataset[0] # the __getitem__ cannot be visited directly"
   ]
  },
  {
   "cell_type": "code",
   "execution_count": 13,
   "id": "887831a4-946e-499a-98f3-f16374031b33",
   "metadata": {},
   "outputs": [],
   "source": [
    "train_dataset = ants_dataset + bees_dataset"
   ]
  },
  {
   "cell_type": "code",
   "execution_count": 18,
   "id": "a6c91c84",
   "metadata": {},
   "outputs": [
    {
     "data": {
      "text/plain": [
       "(245, 124, 121)"
      ]
     },
     "execution_count": 18,
     "metadata": {},
     "output_type": "execute_result"
    }
   ],
   "source": [
    "len(train_dataset), len(ants_dataset), len(bees_dataset)"
   ]
  },
  {
   "cell_type": "code",
   "execution_count": 21,
   "id": "08436c46",
   "metadata": {},
   "outputs": [],
   "source": [
    "img, label = train_dataset[123]\n",
    "img.show()"
   ]
  },
  {
   "cell_type": "code",
   "execution_count": 22,
   "id": "ba864cfa",
   "metadata": {},
   "outputs": [],
   "source": [
    "img, label = train_dataset[124]\n",
    "img.show()"
   ]
  },
  {
   "cell_type": "code",
   "execution_count": null,
   "id": "053fb790",
   "metadata": {},
   "outputs": [],
   "source": []
  }
 ],
 "metadata": {
  "kernelspec": {
   "display_name": "Python 3 (ipykernel)",
   "language": "python",
   "name": "python3"
  },
  "language_info": {
   "codemirror_mode": {
    "name": "ipython",
    "version": 3
   },
   "file_extension": ".py",
   "mimetype": "text/x-python",
   "name": "python",
   "nbconvert_exporter": "python",
   "pygments_lexer": "ipython3",
   "version": "3.11.3"
  }
 },
 "nbformat": 4,
 "nbformat_minor": 5
}
